{
 "cells": [
  {
   "cell_type": "markdown",
   "id": "735c8026",
   "metadata": {},
   "source": [
    "#              Module 3 Assignment"
   ]
  },
  {
   "cell_type": "code",
   "execution_count": 43,
   "id": "a2b7c355",
   "metadata": {},
   "outputs": [
    {
     "name": "stdout",
     "output_type": "stream",
     "text": [
      "[0, 1, 2, 3, 4, 5, 6, 7, 8, 9]\n"
     ]
    }
   ],
   "source": [
    "# 1) What is List? How will you reverse a list? \n",
    "'''A list is a data structure in Python that is a mutable,\n",
    "or changeable, ordered sequence of elements. \n",
    "Each element or value that is inside of a list is called an item.'''\n",
    "\n",
    "# How will you reverse a list? \n",
    "\n",
    "'''In Python, there is a built-in function called reverse() that is used\n",
    "to reverse the list. This is a simple and quick way to reverse a list \n",
    "that requires little memory. Syntax- list_name. reverse()''' \n",
    "\n",
    "list0 = [9,8,7,6,5,4,3,2,1,0]\n",
    "list0.reverse()\n",
    "print(list0)\n",
    "\n"
   ]
  },
  {
   "cell_type": "code",
   "execution_count": null,
   "id": "bfe0b368",
   "metadata": {},
   "outputs": [],
   "source": [
    "# 2) How will you remove last object from a list?\n",
    "\n",
    "'''We can use slicing to remove the last element from a list.\n",
    "This can be done using the expression l = l[:-1] , where l is your list.'''"
   ]
  },
  {
   "cell_type": "code",
   "execution_count": 42,
   "id": "bdfd8470",
   "metadata": {},
   "outputs": [
    {
     "name": "stdout",
     "output_type": "stream",
     "text": [
      "25\n"
     ]
    }
   ],
   "source": [
    "# 3) Suppose list1 is [2, 33, 222, 14, and 25], what is list1 [-1]?\n",
    "\n",
    "list1 = [2, 33, 222, 14,25]\n",
    "print(list1[-1])"
   ]
  },
  {
   "cell_type": "code",
   "execution_count": null,
   "id": "10ce8da8",
   "metadata": {},
   "outputs": [],
   "source": [
    "# 4) Differentiate between append () and extend () methods?\n",
    "\n",
    "'''append() method adds an element to a list,\n",
    "extend() method concatenates the first list with another list \n",
    "(or another iterable).''' "
   ]
  },
  {
   "cell_type": "code",
   "execution_count": 41,
   "id": "7cfdce98",
   "metadata": {},
   "outputs": [
    {
     "name": "stdout",
     "output_type": "stream",
     "text": [
      "Smallest Number is : 2\n",
      "Largest Number is : 54\n",
      "Sum Of All Number is : 84\n"
     ]
    }
   ],
   "source": [
    "# 5) Write a Python function to get the largest number,smallest num and sum\n",
    "#    of all from a list.\n",
    "\n",
    "list2 =[8,4,16,54,2]\n",
    "print(\"Smallest Number is :\",min(list2))\n",
    "print(\"Largest Number is :\",max(list2))\n",
    "print(\"Sum Of All Number is :\",sum(list2))\n"
   ]
  },
  {
   "cell_type": "code",
   "execution_count": 40,
   "id": "5f290b66",
   "metadata": {},
   "outputs": [
    {
     "name": "stdout",
     "output_type": "stream",
     "text": [
      "False\n",
      "True\n"
     ]
    }
   ],
   "source": [
    "# 6) How will you compare two lists?\n",
    "list3 =[0,1,2,3,4]\n",
    "list4 =[1,2,3,4,5]\n",
    "\n",
    "if list3 == list4 :\n",
    "    print(True)\n",
    "    \n",
    "else: \n",
    "    print(False)\n",
    "\n",
    "    # Another Method\n",
    "    \n",
    "if list3 is not list4:\n",
    "    print(True)\n",
    "    \n",
    "else:\n",
    "    print(False)\n"
   ]
  },
  {
   "cell_type": "code",
   "execution_count": null,
   "id": "edd5914a",
   "metadata": {},
   "outputs": [],
   "source": [
    "# 7) Write a Python program to count the number of strings where the string\n",
    "#   length is 2 or more and the first and last character are same from a given\n",
    "#   list of strings.\n",
    "\n"
   ]
  },
  {
   "cell_type": "code",
   "execution_count": 39,
   "id": "5550c94d",
   "metadata": {},
   "outputs": [
    {
     "name": "stdout",
     "output_type": "stream",
     "text": [
      "[10, 14, 13, 12, 16, 'a', 'b', 'c', 'd']\n"
     ]
    }
   ],
   "source": [
    "# 8) Write a Python program to remove duplicates from a list.\n",
    "\n",
    "list6 = [10,14,10,13,12,14,16,10,'a','b','a','c','b','d','d']\n",
    "print(list(dict.fromkeys(list6)))\n"
   ]
  },
  {
   "cell_type": "code",
   "execution_count": 38,
   "id": "4b833bd1",
   "metadata": {},
   "outputs": [
    {
     "name": "stdout",
     "output_type": "stream",
     "text": [
      "List is empty\n",
      "List Have values in it : [2, 3, 4, 5]\n"
     ]
    }
   ],
   "source": [
    "# 9) Write a Python program to check a list is empty or not.\n",
    "\n",
    "list7 = []\n",
    "if not list7:\n",
    "    print(\"List is empty\")\n",
    "else:\n",
    "    print(\"List Have values in it\")\n",
    "                     \n",
    "        # OR\n",
    "        \n",
    "list7 = [2,3,4,5]\n",
    "if not list7:\n",
    "    print(\"List is empty\")\n",
    "else:\n",
    "    print(\"List Have values in it :\",list7)    "
   ]
  },
  {
   "cell_type": "code",
   "execution_count": 37,
   "id": "db518139",
   "metadata": {},
   "outputs": [
    {
     "name": "stdout",
     "output_type": "stream",
     "text": [
      "True\n"
     ]
    }
   ],
   "source": [
    "# 10) Write a Python function that takes two lists and returns true if they have\n",
    "#      at least one common member.\n",
    "\n",
    "list8 = [12,15,10,18,20]\n",
    "list9 = [25,28,12,16,30]\n",
    "for i in list8:\n",
    "    for x in list9:\n",
    "        if i==x:\n",
    "            print(True)\n"
   ]
  },
  {
   "cell_type": "code",
   "execution_count": null,
   "id": "d58dea9c",
   "metadata": {},
   "outputs": [],
   "source": [
    "# 11) Write a Python program to generate and print a list of first and last 5\n",
    "#     elements where the values are square of numbers between 1 and 30.\n",
    "\n"
   ]
  },
  {
   "cell_type": "code",
   "execution_count": 36,
   "id": "d5ea3a0d",
   "metadata": {},
   "outputs": [
    {
     "name": "stdout",
     "output_type": "stream",
     "text": [
      "[1, 3, 5, 6, 7, 8, 14, 12, 11]\n"
     ]
    }
   ],
   "source": [
    "# 12) Write a Python function that takes a list and returns a new list \n",
    "#     with unique elements of the first list.\n",
    "\n",
    "list11 = [1,3,3,5,1,6,7,7,8,5,14,12,11,12]\n",
    "Unique_list = []\n",
    "for i in list11:\n",
    "    if i not in Unique_list:\n",
    "        Unique_list.append(i)\n",
    "print(Unique_list)"
   ]
  },
  {
   "cell_type": "code",
   "execution_count": 35,
   "id": "a0c6536d",
   "metadata": {},
   "outputs": [
    {
     "name": "stdout",
     "output_type": "stream",
     "text": [
      "Devang Sir\n"
     ]
    }
   ],
   "source": [
    "# 13) Write a Python program to convert a list of characters into a string\n",
    "\n",
    "list12 = ['D','e','v','a','n','g',' ','S','i','r']\n",
    "string =''.join(list12)\n",
    "print(string)"
   ]
  },
  {
   "cell_type": "code",
   "execution_count": 34,
   "id": "055fef6b",
   "metadata": {},
   "outputs": [
    {
     "name": "stdout",
     "output_type": "stream",
     "text": [
      "Bike\n"
     ]
    }
   ],
   "source": [
    "# 14) Write a Python program to select an item randomly from a list.\n",
    "\n",
    "lst13 = ['Car','Bike','Aeroplane','Chopper','Scooty']\n",
    "import random\n",
    "print(random.choice(lst13))\n"
   ]
  },
  {
   "cell_type": "code",
   "execution_count": null,
   "id": "a89be92a",
   "metadata": {},
   "outputs": [],
   "source": [
    "# 15) Write a Python program to find the second smallest number in a list.\n"
   ]
  },
  {
   "cell_type": "code",
   "execution_count": 33,
   "id": "c042039f",
   "metadata": {},
   "outputs": [
    {
     "name": "stdout",
     "output_type": "stream",
     "text": [
      "[2, 4, 5, 6, 7, 8, 'Apple']\n"
     ]
    }
   ],
   "source": [
    "# 16) Write a Python program to get unique values from a list\n",
    "\n",
    "lst14 = [2,4,2,4,5,6,7,7,8,\"Apple\"]\n",
    "print(list(dict.fromkeys(lst14)))"
   ]
  },
  {
   "cell_type": "code",
   "execution_count": 4,
   "id": "e855402a",
   "metadata": {},
   "outputs": [
    {
     "name": "stdout",
     "output_type": "stream",
     "text": [
      "Sublist Is Present In List\n"
     ]
    }
   ],
   "source": [
    "# 17) Write a Python program to check whether a list contains a sub list.\n",
    "\n",
    "lst15 = ['x','y','z',['a','b',2],'car']\n",
    "for i in lst15:\n",
    "    if len(i) > 1:\n",
    "        print (\"Sublist Is Present In List\")\n",
    "        break\n",
    "else:\n",
    "    print(\"Sublist is not present in list\")"
   ]
  },
  {
   "cell_type": "code",
   "execution_count": 9,
   "id": "7c8419b2",
   "metadata": {},
   "outputs": [
    {
     "name": "stdout",
     "output_type": "stream",
     "text": [
      "('Name', 'Gulam', 'Language', 'Python')\n",
      "('Location', 'Surat', 'Place', 'Tops')\n"
     ]
    }
   ],
   "source": [
    "# 18) Write a Python program to split a list into different variables.\n",
    "\n",
    "lst16 = [('Name','Gulam','Language','Python'),('Location','Surat','Place','Tops' )]\n",
    "\n",
    "var1 , var2 = lst16\n",
    "print(var1)\n",
    "print(var2)"
   ]
  },
  {
   "cell_type": "code",
   "execution_count": null,
   "id": "25f629c9",
   "metadata": {},
   "outputs": [],
   "source": [
    "# 19) What is tuple? Difference between list and tuple.\n",
    "\n",
    "'''A tuple is a collection of objects which ordered and immutable.\n",
    "The differences between tuples and lists are, the tuples cannot be changed \n",
    "unlike lists and tuples use parentheses, whereas lists use square brackets.'''"
   ]
  },
  {
   "cell_type": "code",
   "execution_count": 55,
   "id": "118ac5dc",
   "metadata": {},
   "outputs": [
    {
     "name": "stdout",
     "output_type": "stream",
     "text": [
      "([1, 2], {'Name': 'Python'}, {'b', 'a', 'c'}, 'tuple', 1, 2, 4.5, -4, True)\n"
     ]
    }
   ],
   "source": [
    "# 20) Write a Python program to create a tuple with different data types.\n",
    "\n",
    "tup1 = ([1,2],{'Name' : 'Python'},{'a','b','c'},'tuple',1,2,4.5,-4,True)\n",
    "print(tup1)"
   ]
  },
  {
   "cell_type": "code",
   "execution_count": 6,
   "id": "aaff7875",
   "metadata": {},
   "outputs": [
    {
     "name": "stdout",
     "output_type": "stream",
     "text": [
      "(33, 4, 55, 6, 77, 8, 99)\n"
     ]
    }
   ],
   "source": [
    "# 21) Write a Python program to create a tuple with numbers.\n",
    "\n",
    "tup2 = (33,4,55,6,77,8,99)\n",
    "print(tup2)\n"
   ]
  },
  {
   "cell_type": "code",
   "execution_count": 22,
   "id": "e0791a25",
   "metadata": {},
   "outputs": [
    {
     "name": "stdout",
     "output_type": "stream",
     "text": [
      "STRING\n"
     ]
    }
   ],
   "source": [
    "# 22) Write a Python program to convert a tuple to a string.\n",
    "\n",
    "tup3 = ('S','T','R','I','N','G')\n",
    "string =''.join(tup3)\n",
    "print(string)"
   ]
  },
  {
   "cell_type": "code",
   "execution_count": 23,
   "id": "9335a3e8",
   "metadata": {},
   "outputs": [
    {
     "name": "stdout",
     "output_type": "stream",
     "text": [
      "True\n",
      "False\n"
     ]
    }
   ],
   "source": [
    "# 23) Write a Python program to check whether an element exists within a tuple.\n",
    "\n",
    "tup4 = ('S',6,'G',7,'R','T')\n",
    "print('R' in tup4)\n",
    "print(8 in tup4)"
   ]
  },
  {
   "cell_type": "code",
   "execution_count": 27,
   "id": "1d275300",
   "metadata": {},
   "outputs": [
    {
     "name": "stdout",
     "output_type": "stream",
     "text": [
      "7\n"
     ]
    }
   ],
   "source": [
    "# 24) Write a Python program to find the length of a tuple.\n",
    "\n",
    "tup5 = ('S',6,'G',7,'R','T',88)\n",
    "print(len(tup5))\n"
   ]
  },
  {
   "cell_type": "code",
   "execution_count": 32,
   "id": "b69a37dd",
   "metadata": {},
   "outputs": [
    {
     "name": "stdout",
     "output_type": "stream",
     "text": [
      "(33, 'g', 44, 'r', 'v', 't', 99)\n"
     ]
    }
   ],
   "source": [
    "# 25) Write a Python program to convert a list to a tuple.\n",
    "\n",
    "lst = [33,'g',44,'r','v','t',99]\n",
    "tup = tuple(lst)\n",
    "print(tup)\n"
   ]
  },
  {
   "cell_type": "code",
   "execution_count": 48,
   "id": "a0209ba3",
   "metadata": {},
   "outputs": [
    {
     "name": "stdout",
     "output_type": "stream",
     "text": [
      "('Khan', 'Gulam')\n"
     ]
    }
   ],
   "source": [
    "# 26) Write a Python program to reverse a tuple.\n",
    "\n",
    "tup6 = ('Gulam','Khan')\n",
    "tup = reversed(tup6)\n",
    "print(tuple(tup))"
   ]
  },
  {
   "cell_type": "code",
   "execution_count": 73,
   "id": "5f049192",
   "metadata": {},
   "outputs": [],
   "source": [
    "# 27)  Write a Python program to replace last value of tuples in a list.\n"
   ]
  },
  {
   "cell_type": "code",
   "execution_count": 77,
   "id": "76271d59",
   "metadata": {},
   "outputs": [
    {
     "name": "stdout",
     "output_type": "stream",
     "text": [
      "REPEATED\n"
     ]
    }
   ],
   "source": [
    "# 28) Write a Python program to find the repeated items of a tuple.\n",
    "\n",
    "tup8 = (1,2,3,4,5,1)\n",
    "for i in tup8:\n",
    "    if tup8.count(i) > 1:\n",
    "        print('REPEATED')\n",
    "        break\n",
    "else:\n",
    "    print('NOT REPEATED')"
   ]
  },
  {
   "cell_type": "code",
   "execution_count": null,
   "id": "a51450a7",
   "metadata": {},
   "outputs": [],
   "source": []
  },
  {
   "cell_type": "code",
   "execution_count": null,
   "id": "c0ca12a3",
   "metadata": {},
   "outputs": [],
   "source": []
  },
  {
   "cell_type": "code",
   "execution_count": null,
   "id": "b54cf5f3",
   "metadata": {},
   "outputs": [],
   "source": []
  },
  {
   "cell_type": "code",
   "execution_count": null,
   "id": "b9a0fb5d",
   "metadata": {},
   "outputs": [],
   "source": []
  },
  {
   "cell_type": "code",
   "execution_count": null,
   "id": "44cd98f2",
   "metadata": {},
   "outputs": [],
   "source": []
  },
  {
   "cell_type": "code",
   "execution_count": null,
   "id": "63664380",
   "metadata": {},
   "outputs": [],
   "source": []
  },
  {
   "cell_type": "code",
   "execution_count": null,
   "id": "806f82c9",
   "metadata": {},
   "outputs": [],
   "source": []
  }
 ],
 "metadata": {
  "kernelspec": {
   "display_name": "Python 3 (ipykernel)",
   "language": "python",
   "name": "python3"
  },
  "language_info": {
   "codemirror_mode": {
    "name": "ipython",
    "version": 3
   },
   "file_extension": ".py",
   "mimetype": "text/x-python",
   "name": "python",
   "nbconvert_exporter": "python",
   "pygments_lexer": "ipython3",
   "version": "3.9.12"
  }
 },
 "nbformat": 4,
 "nbformat_minor": 5
}
