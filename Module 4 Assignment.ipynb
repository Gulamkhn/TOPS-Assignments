{
 "cells": [
  {
   "cell_type": "markdown",
   "id": "36c8c8e1",
   "metadata": {},
   "source": [
    "#  Module 4 Assignment"
   ]
  },
  {
   "cell_type": "code",
   "execution_count": null,
   "id": "0831de76",
   "metadata": {},
   "outputs": [],
   "source": [
    "# What is File function in python? What is keywords to create and write file ?\n",
    "\n",
    "# Python file object provides methods and attributes to access and manipulate files. \n",
    "# Using file objects, we can read or write any files. \n",
    "# To create a new file \"X\"\n",
    "# To write a file \"W\""
   ]
  },
  {
   "cell_type": "code",
   "execution_count": null,
   "id": "2b2f7cc5",
   "metadata": {},
   "outputs": [],
   "source": [
    "# Write a Python program to read an entire text file.\n",
    "\n",
    "def file_read(fname):\n",
    "    txt=open(fname)\n",
    "    print(txt.read())\n",
    "file_read('Textfile.txt')\n",
    "\n",
    "                #OR \n",
    "\n",
    "Name_of_the_file = open('Textfile.txt','r')\n",
    "File_Read = Name_of_the_file.read()\n",
    "print(File_Read)\n",
    "\n",
    "    "
   ]
  },
  {
   "cell_type": "code",
   "execution_count": null,
   "id": "5f8d6918",
   "metadata": {},
   "outputs": [],
   "source": [
    "# Write a Python program to append text to a file and display the text.\n",
    "\n",
    "Name_of_the_file=open('textfile.txt','a')\n",
    "Name_of_the_file.write('\\nKhan')\n",
    "Name_of_the_file.close()\n",
    "Name_of_the_file=open('textfile.txt','r')\n",
    "File_Read=Name_of_the_file.read()\n",
    "print(File_Read)\n",
    "\n"
   ]
  },
  {
   "cell_type": "code",
   "execution_count": null,
   "id": "606f7579",
   "metadata": {},
   "outputs": [],
   "source": [
    "# Write a Python program to read first n lines of a file.\n",
    "\n",
    "line=int(input('enter the line to read '))\n",
    "Name_of_the_file=open('Textfile.txt','r')\n",
    "for i in range(n):\n",
    "    File_Read=Name_of_the_file.readline()\n",
    "    print(File_Read)"
   ]
  },
  {
   "cell_type": "code",
   "execution_count": null,
   "id": "882e7018",
   "metadata": {},
   "outputs": [],
   "source": [
    "# Write a Python program to read last n lines of a file.\n",
    "\n",
    "lines = int(input('How Many lines you want to see From last :'))\n",
    "file = open('Textfile.txt','r')\n",
    "last_lines = file.readlines()\n",
    "last_line = last_lines[-lines:]\n",
    "for i in last_line:\n",
    "    print(i)\n",
    "file.close()\n"
   ]
  },
  {
   "cell_type": "code",
   "execution_count": null,
   "id": "8d8d585f",
   "metadata": {},
   "outputs": [],
   "source": [
    "# Write a Python program to read a file line by line and store it into a list\n",
    "\n",
    "list01=[]\n",
    "def filename(file):\n",
    "    with open('Textfile.txt') as file:\n",
    "        for line in (file.readlines()):\n",
    "            list01.append(line)\n",
    "filename('Textfile.txt')\n",
    "print(list01)"
   ]
  },
  {
   "cell_type": "code",
   "execution_count": null,
   "id": "a7e0d264",
   "metadata": {},
   "outputs": [],
   "source": [
    "# Write a Python program to read a file line by line store it into a variable.\n",
    "\n",
    "Input=int(input('enter the line to read  :  '))\n",
    "Name_of_the_file = open('Textfile.txt','r')\n",
    "for i in range(Input):\n",
    "    File_Read = Name_of_the_file.readline()\n",
    "    print(File_Read)"
   ]
  },
  {
   "cell_type": "code",
   "execution_count": null,
   "id": "22b5fa28",
   "metadata": {},
   "outputs": [],
   "source": [
    "# Write a python program to find the longest words.\n",
    "\n",
    "# N = int(input('Enter the value :'))\n",
    "file = open('Textfile.txt','r')\n",
    "Read = file.read()\n",
    "words = Read.split()\n",
    "print(max(words,key=len))"
   ]
  },
  {
   "cell_type": "code",
   "execution_count": null,
   "id": "01e8e88c",
   "metadata": {},
   "outputs": [],
   "source": [
    "# Write a Python program to count the number of lines in a text file.\n",
    "\n",
    "Name_of_the_file = open('Textfile.txt','r')\n",
    "File_Read = len(Name_of_the_file.readlines())\n",
    "print(File_Read)"
   ]
  },
  {
   "cell_type": "code",
   "execution_count": null,
   "id": "05bf9aa8",
   "metadata": {},
   "outputs": [],
   "source": [
    "# Write a Python program to count the frequency of words in a file.\n",
    "\n",
    "Name_of_the_file = open('Textfile.txt','r')\n",
    "File_Read = str(Name_of_the_file .readlines())\n",
    "words = File_Read.split(' ')\n",
    "print(File_Read)\n",
    "print('The Total Number Of Words Are : %s'%len(w))"
   ]
  },
  {
   "cell_type": "code",
   "execution_count": null,
   "id": "e1cab052",
   "metadata": {},
   "outputs": [],
   "source": [
    "# Write a Python program to write a list to a file.\n",
    "\n",
    "Name_of_the_file = open('Textfile.txt','w')\n",
    "Hobbies=['Mobile Gaming','\\nCricket','\\nTravelling']\n",
    "for i in Hobbies:\n",
    "    Name_of_the_file .write(i)\n",
    "print(Hobbies)\n",
    "Name_of_the_file .close()\n",
    "\n",
    "\n"
   ]
  },
  {
   "cell_type": "code",
   "execution_count": null,
   "id": "e2c65b6f",
   "metadata": {},
   "outputs": [],
   "source": [
    "# Write a Python program to copy the contents of a file to another file.\n",
    "\n",
    "File = open('Textfile.txt','r')\n",
    "Second_File = open('Textfile2.txt','w')\n",
    "for x in File:\n",
    "    Second_File.write(x)\n",
    "    print(x)\n",
    "Second_File.close()\n",
    "\n",
    "\n",
    "\n"
   ]
  },
  {
   "cell_type": "code",
   "execution_count": null,
   "id": "a4b076b7",
   "metadata": {},
   "outputs": [],
   "source": [
    "# Explain Exception handling? What is an Error in Python?\n",
    "\n",
    "# Exception handling is responding to exceptions when a computer program runs.\n",
    "# An exception occurs when an unexpected event happens\n",
    "# that requires special processing.\n",
    "\n",
    "# The most common reason of an error in a Python program is when a certain statement\n",
    "# is not in accordance with the prescribed usage. Such an error is called a syntax error.\n",
    "# The Python interpreter immediately reports it, usually along with the reason.\n",
    "# Example: Error."
   ]
  },
  {
   "cell_type": "code",
   "execution_count": null,
   "id": "380f7264",
   "metadata": {},
   "outputs": [],
   "source": [
    "# How many except statements can a try-except block have? Name Some built-in exception classes:\n",
    "\n",
    "# There has to be at least one except statement.\n",
    "\n",
    "# keyError, IndexError,SyntaxErr,NameError, IndentationError,\n",
    "# TypeError ,ImportError, Exception,\n"
   ]
  },
  {
   "cell_type": "code",
   "execution_count": null,
   "id": "032a8376",
   "metadata": {},
   "outputs": [],
   "source": [
    "# When will the else part of try-except-else be executed?\n",
    "\n",
    "# The else part is executed when no exception occurs. "
   ]
  },
  {
   "cell_type": "code",
   "execution_count": null,
   "id": "39a7177d",
   "metadata": {},
   "outputs": [],
   "source": [
    "# Can one block of except statements handle multiple exception?\n",
    "\n",
    "# yes, like except TypeError, SyntaxError "
   ]
  },
  {
   "cell_type": "code",
   "execution_count": null,
   "id": "fc29c76a",
   "metadata": {},
   "outputs": [],
   "source": [
    "# When is the finally block executed?\n",
    "\n",
    "# The finally block always executes when the try block exits. \n",
    "# This ensures that the finally block is executed even if an unexpected exception occurs."
   ]
  },
  {
   "cell_type": "code",
   "execution_count": null,
   "id": "a6ac0bf9",
   "metadata": {},
   "outputs": [],
   "source": [
    "# What happens when „1‟== 1 is executed?\n",
    "\n",
    "# it simply evaluates to false and does not raise any exception.\n",
    "\n",
    "\"1\"== 1 "
   ]
  },
  {
   "cell_type": "code",
   "execution_count": null,
   "id": "357a2d8b",
   "metadata": {},
   "outputs": [],
   "source": [
    "# How Do You Handle Exceptions With Try/Except/Finally In Python?\n",
    "# Explain with coding snippets.\n",
    "\n",
    "\n",
    "try:\n",
    "    one=12\n",
    "    two=int(input())\n",
    "    three=one/two\n",
    "    print(three)\n",
    "    print('Try')\n",
    "except ValueError:\n",
    "    print('value error')\n",
    "except ZeroDivisionError:\n",
    "    print('Zero Is Not Allowed')\n",
    "else:\n",
    "    print('Else')\n",
    "finally:\n",
    "    print('Finally')\n",
    "print('Thankyou')"
   ]
  },
  {
   "cell_type": "code",
   "execution_count": null,
   "id": "ca651df0",
   "metadata": {},
   "outputs": [],
   "source": [
    "# Write python program that user to enter only odd numbers, else will raise an exception.\n",
    "\n",
    "class oddError(Exception):\n",
    "    pass\n",
    "num=int(input())\n",
    "if num%2==0:\n",
    "    raise oddError('Entered Number Should Be Greater Than Zero')\n",
    "else:\n",
    "    print('The Entered Number Is Odd')"
   ]
  },
  {
   "cell_type": "code",
   "execution_count": null,
   "id": "ccc44d49",
   "metadata": {},
   "outputs": [],
   "source": [
    "# What are oops concepts? Is multiple inheritance supported in java\n",
    "\n",
    "# OOP (object-oriented programming) concepts in Python include Class, Object, Method, Inheritance,Polymorphism, \n",
    "# Abstraction, and Encapsulation.\n",
    "\n",
    "# The Java programming language supports multiple inheritance of type, \n",
    "# which is the ability of a class to implement more than one interface.\n",
    "# An object can have multiple types: the type of its own class and\n",
    "# the types of all the interfaces that the class implements."
   ]
  },
  {
   "cell_type": "code",
   "execution_count": null,
   "id": "79be7610",
   "metadata": {},
   "outputs": [],
   "source": [
    "# How to Define a Class in Python? What Is Self? Give An Example Of A Python Class\n",
    "\n",
    "# Using class keyword we can define a class\n",
    "\n",
    "# The self parameter is a reference to the current instance of the class, \n",
    "# and is used to access variables that belongs to the class.\n",
    "\n"
   ]
  },
  {
   "cell_type": "code",
   "execution_count": null,
   "id": "341829c9",
   "metadata": {},
   "outputs": [],
   "source": [
    "# Write a Python class named Rectangle constructed by a length and width and a method which will compute the area of a rectangle\n",
    "\n",
    "LENGTH = int(input('Enter the LENGTH :'))\n",
    "WIDTH = int(input('Enter the WIDTH :'))\n",
    "class Rectangle():\n",
    "    def __init__(self,length,width):\n",
    "        self.length=length\n",
    "        self.width=width\n",
    "    def Area(self):\n",
    "        Total_Area=self.length*self.width\n",
    "        print('Area of Triangle : ',Total_Area)\n",
    "\n",
    "obj=Rectangle(LENGTH,WIDTH)\n",
    "obj.Area()"
   ]
  },
  {
   "cell_type": "code",
   "execution_count": null,
   "id": "c3815846",
   "metadata": {},
   "outputs": [],
   "source": [
    "# Write a Python class named Circle constructed by a radius and two methods which will compute the area and the perimeter of a circle.\n",
    "\n"
   ]
  },
  {
   "cell_type": "code",
   "execution_count": null,
   "id": "97ba2268",
   "metadata": {},
   "outputs": [],
   "source": [
    "# Explain Inheritance in Python with an example? What is init? Or What Is A Constructor In Python?\n",
    "\n",
    "# Inheritance relationship defines the classes that inherit from other classes as derived, subclass, or sub-type classes. \n",
    "# Base class remains to be the source from which a subclass inherits. \n",
    "# For example, you have a Base class of “Animal,” and a “Lion” is a Derived class. The inheritance will be Lion is an Animal.\n",
    "\n",
    "# The __init__ function is called every time an object is created from a class.\n",
    "# The __init__ method lets the class initialize the object's attributes and serves no other purpose. It is only used within classes.\n",
    "\n",
    "# A constructor is a special type of method (function) which is used to initialize the instance members of the class."
   ]
  },
  {
   "cell_type": "code",
   "execution_count": null,
   "id": "ab1f860c",
   "metadata": {},
   "outputs": [],
   "source": [
    "# What is Instantiation in terms of OOP terminology?\n",
    "\n",
    "# Instantiation refers to creating an object/instance for a class."
   ]
  },
  {
   "cell_type": "code",
   "execution_count": 11,
   "id": "957dc8bc",
   "metadata": {},
   "outputs": [
    {
     "data": {
      "text/plain": [
       "False"
      ]
     },
     "execution_count": 11,
     "metadata": {},
     "output_type": "execute_result"
    }
   ],
   "source": [
    "# What is used to check whether an object o is an instance of class A?\n",
    "\n",
    "class Marvels:\n",
    "    pass\n",
    "\n",
    "Ironman = Marvels()\n",
    "class Dc:\n",
    "    pass\n",
    "\n",
    "Batman= Dc()\n",
    "isinstance(Batman,Marvels)"
   ]
  }
 ],
 "metadata": {
  "kernelspec": {
   "display_name": "Python 3 (ipykernel)",
   "language": "python",
   "name": "python3"
  },
  "language_info": {
   "codemirror_mode": {
    "name": "ipython",
    "version": 3
   },
   "file_extension": ".py",
   "mimetype": "text/x-python",
   "name": "python",
   "nbconvert_exporter": "python",
   "pygments_lexer": "ipython3",
   "version": "3.9.12"
  }
 },
 "nbformat": 4,
 "nbformat_minor": 5
}
