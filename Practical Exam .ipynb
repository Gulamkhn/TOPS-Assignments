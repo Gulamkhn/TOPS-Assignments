{
 "cells": [
  {
   "cell_type": "code",
   "execution_count": 1,
   "id": "226764d9",
   "metadata": {},
   "outputs": [
    {
     "name": "stdout",
     "output_type": "stream",
     "text": [
      "The Value Is : 4\n"
     ]
    }
   ],
   "source": [
    "# 1) W.A.P to access value on index value in the list.\n",
    "\n",
    "list1 = [1,2,2,4,5,'i']\n",
    "print(\"The Value Is :\",list1[3])"
   ]
  },
  {
   "cell_type": "code",
   "execution_count": 2,
   "id": "63dfbd25",
   "metadata": {},
   "outputs": [
    {
     "name": "stdout",
     "output_type": "stream",
     "text": [
      "The Values Are : [8, 3, 4, 5, 6, 'index', 0.75]\n"
     ]
    }
   ],
   "source": [
    "# 2) W.A.P to access the value after the index value 1.\n",
    "\n",
    "list2 = [0,1,8,3,4,5,6,'index',0.75]\n",
    "print(\"The Values Are :\",list2[2:])"
   ]
  },
  {
   "cell_type": "code",
   "execution_count": 3,
   "id": "7f8d4125",
   "metadata": {},
   "outputs": [
    {
     "name": "stdout",
     "output_type": "stream",
     "text": [
      "The Values Are : [7.5, 8, 5, 9, 'Tops']\n"
     ]
    }
   ],
   "source": [
    "# 3) W.A.P to access the value between 1 to 5.\n",
    "\n",
    "list3 = [6.5,7.5,8,5,9,'Tops','Google','Python']\n",
    "print(\"The Values Are :\",list3[1:6])"
   ]
  },
  {
   "cell_type": "code",
   "execution_count": 4,
   "id": "d20ebb96",
   "metadata": {},
   "outputs": [
    {
     "name": "stdout",
     "output_type": "stream",
     "text": [
      "The Values Are : [1, 1, 2, 3, 4, 5]\n"
     ]
    }
   ],
   "source": [
    "# 4) W.A.P to access the value till index 5.\n",
    "\n",
    "list4 = [1,1,2,3,4,5,6,7,8]\n",
    "print(\"The Values Are :\",list4[:6])"
   ]
  },
  {
   "cell_type": "code",
   "execution_count": 5,
   "id": "f1d55f49",
   "metadata": {},
   "outputs": [
    {
     "name": "stdout",
     "output_type": "stream",
     "text": [
      "The VAlues Are : [38, 95, 88, 'IronMan', 'Captain America']\n"
     ]
    }
   ],
   "source": [
    "# 5) W.A.P to update the list using the index value.\n",
    "\n",
    "list5 = [38,95,88,75,'Captain America']\n",
    "list5[3]='IronMan'\n",
    "print(\"The VAlues Are :\",list5)"
   ]
  },
  {
   "cell_type": "code",
   "execution_count": 6,
   "id": "591f39ac",
   "metadata": {},
   "outputs": [
    {
     "name": "stdout",
     "output_type": "stream",
     "text": [
      "1\n",
      "1\n",
      "2\n",
      "3\n",
      "4\n",
      "5\n",
      "6\n",
      "7\n",
      "8\n"
     ]
    }
   ],
   "source": [
    "# 6) W.A.P to iterate the list using for loop.\n",
    "list6 = [1,1,2,3,4,5,6,7,8]\n",
    "for i in list6:\n",
    "    print(i)\n"
   ]
  },
  {
   "cell_type": "code",
   "execution_count": 10,
   "id": "a163187f",
   "metadata": {},
   "outputs": [
    {
     "name": "stdout",
     "output_type": "stream",
     "text": [
      "[12, 21.56, 'Harry Potter', True]\n"
     ]
    }
   ],
   "source": [
    "# 7) W.A.P to insert the value in empty list using for loop and append().\n",
    "\n",
    "list7 = []\n",
    "list7.append(12)\n",
    "list7.append(21.56)\n",
    "list7.append('Harry Potter')\n",
    "list7.append(True)\n",
    "print(list7)"
   ]
  },
  {
   "cell_type": "code",
   "execution_count": 8,
   "id": "90e5039c",
   "metadata": {},
   "outputs": [
    {
     "name": "stdout",
     "output_type": "stream",
     "text": [
      "[7, 12, 14, 18, 'Rain']\n"
     ]
    }
   ],
   "source": [
    "# 8) W.A.P to delete the element using del().\n",
    "\n",
    "list8 = [7,7.5,12,14,18,'Rain']\n",
    "list8.remove(7.5)\n",
    "print(list8)\n"
   ]
  },
  {
   "cell_type": "code",
   "execution_count": 9,
   "id": "c38c5991",
   "metadata": {},
   "outputs": [
    {
     "name": "stdout",
     "output_type": "stream",
     "text": [
      "[0, 1, 2, 3, 4, 5, 6, 7, 8, 9]\n"
     ]
    }
   ],
   "source": [
    "# 9) W.A.P to sort the list using sort() and sorted().\n",
    "\n",
    "list9 = [9,8,7,6,5,4,3,2,1,0]\n",
    "list9.sort()\n",
    "print(list9)"
   ]
  },
  {
   "cell_type": "code",
   "execution_count": 10,
   "id": "74352bf4",
   "metadata": {},
   "outputs": [],
   "source": [
    "# 10) W.A.P to round the value in list using round and for loop.\n",
    "\n"
   ]
  },
  {
   "cell_type": "code",
   "execution_count": 11,
   "id": "deb49319",
   "metadata": {},
   "outputs": [
    {
     "name": "stdout",
     "output_type": "stream",
     "text": [
      "(1, 2, 2, 4, 5, 'i')\n"
     ]
    }
   ],
   "source": [
    "# 11) W.A.P to convert list into tuple.\n",
    "\n",
    "list12 = [1,2,2,4,5,'i']\n",
    "tup1= tuple(list12)\n",
    "print(tup1)"
   ]
  },
  {
   "cell_type": "code",
   "execution_count": 12,
   "id": "34315f86",
   "metadata": {},
   "outputs": [
    {
     "name": "stdout",
     "output_type": "stream",
     "text": [
      "(12, 'abc', 5.78, {1, 3, 7.5}, True, {'harry': 45}, (1, 2, 3, 4))\n"
     ]
    }
   ],
   "source": [
    "# 12) W.A.P to create tuple with multiple data.\n",
    "tup2 = (12,'abc',5.78,{1,3,7.5},True,{ 'harry' : 45 },(1,2,3,4))\n",
    "print(tup2)"
   ]
  },
  {
   "cell_type": "code",
   "execution_count": 13,
   "id": "536fe82f",
   "metadata": {},
   "outputs": [
    {
     "name": "stdout",
     "output_type": "stream",
     "text": [
      "(1, 2, 3, 4, 5, 6, 7, 8, 9, 10)\n"
     ]
    }
   ],
   "source": [
    "# 13) W.A.P to concate the two tuple into one tuple.\n",
    "\n",
    "tup3 = (1,2,3,4)\n",
    "tup4 = (5,6,7,8,9,10)\n",
    "tupp = tup3 + tup4\n",
    "print (tupp)"
   ]
  },
  {
   "cell_type": "code",
   "execution_count": 14,
   "id": "7ea5d39b",
   "metadata": {},
   "outputs": [
    {
     "name": "stdout",
     "output_type": "stream",
     "text": [
      "1\n"
     ]
    }
   ],
   "source": [
    "# 14) W.A.P to access the value of index value 1st in tuple.\n",
    "\n",
    "tup5 = (14,16,'BGMI',98,9.76)\n",
    "tup5 = tup5.index(16)\n",
    "print(tup5)"
   ]
  },
  {
   "cell_type": "code",
   "execution_count": 15,
   "id": "4b33ddec",
   "metadata": {},
   "outputs": [
    {
     "name": "stdout",
     "output_type": "stream",
     "text": [
      "15\n"
     ]
    }
   ],
   "source": [
    " # 15) W.A.P to access the value from last in tuple.\n",
    "    \n",
    "tup6 = (12,14,13,18,15)\n",
    "print(tup6[-1])"
   ]
  },
  {
   "cell_type": "code",
   "execution_count": 16,
   "id": "7aee1f04",
   "metadata": {},
   "outputs": [
    {
     "name": "stdout",
     "output_type": "stream",
     "text": [
      "(22, 23, 24, 25, 26)\n"
     ]
    }
   ],
   "source": [
    "# 16) W.A.P to access the value between index 1st to 5th from a tuple.\n",
    "\n",
    "tup7 = (21,22,23,24,25,26,27,28)\n",
    "print(tup7[1:6])"
   ]
  },
  {
   "cell_type": "code",
   "execution_count": 1,
   "id": "252012bf",
   "metadata": {},
   "outputs": [
    {
     "name": "stdout",
     "output_type": "stream",
     "text": [
      "(22, 24, 26)\n"
     ]
    }
   ],
   "source": [
    "# 17) W.A.P to Access the alternate value between index 1st to 5th.\n",
    "tup8 = (21,22,23,24,25,26,27,28)\n",
    "print(tup8[1:6:2])"
   ]
  },
  {
   "cell_type": "code",
   "execution_count": 11,
   "id": "c021369b",
   "metadata": {},
   "outputs": [
    {
     "name": "stdout",
     "output_type": "stream",
     "text": [
      "{'Tony Stark': 'Iron Man', 'Steve Rogers': 'Captain America', 'Bruce Banner': 'Hulk', 'Peter parker': 'Spider Man', 'King of Thunder': 'Thor', 'Stanlee': 'Marvels'}\n"
     ]
    }
   ],
   "source": [
    "# 18) W.A.P to create the dictionary of having 6 key and value.\n",
    "dict1 = {'Tony Stark' : 'Iron Man','Steve Rogers' : 'Captain America','Bruce Banner' : 'Hulk','Peter parker':'Spider Man','King of Thunder' : 'Thor','Stanlee':'Marvels'}\n",
    "print(dict1)"
   ]
  },
  {
   "cell_type": "code",
   "execution_count": null,
   "id": "d53f794e",
   "metadata": {},
   "outputs": [],
   "source": []
  }
 ],
 "metadata": {
  "kernelspec": {
   "display_name": "Python 3 (ipykernel)",
   "language": "python",
   "name": "python3"
  },
  "language_info": {
   "codemirror_mode": {
    "name": "ipython",
    "version": 3
   },
   "file_extension": ".py",
   "mimetype": "text/x-python",
   "name": "python",
   "nbconvert_exporter": "python",
   "pygments_lexer": "ipython3",
   "version": "3.9.12"
  }
 },
 "nbformat": 4,
 "nbformat_minor": 5
}
