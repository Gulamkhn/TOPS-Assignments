{
 "cells": [
  {
   "cell_type": "code",
   "execution_count": null,
   "id": "0df7ede8",
   "metadata": {},
   "outputs": [],
   "source": [
    "# 1). Write a Python program to check if a number is positive, negative or zero.\n",
    "\n",
    "a=int(input(\"Your Number :\"))\n",
    "if a==0:\n",
    "    print(\"Given Number is Zero\")\n",
    "elif a>0:\n",
    "        print(\"Given Number Is Positive\")\n",
    "else:\n",
    "        print (\"Given Number Is Negative\")"
   ]
  },
  {
   "cell_type": "code",
   "execution_count": null,
   "id": "ed610ddd",
   "metadata": {},
   "outputs": [],
   "source": [
    "# 2). Write a Python program to get the Factorial number of given number.\n",
    "\n",
    "A = int(input(\"Enter The Number :\"))\n",
    "fac=1\n",
    "while (A>0):\n",
    "    fac=fac*A\n",
    "    A=A-1\n",
    "    print(\"factorial=\",fac)"
   ]
  },
  {
   "cell_type": "code",
   "execution_count": null,
   "id": "9bd023ba",
   "metadata": {},
   "outputs": [],
   "source": [
    "# 3). Write a Python program to get the Fibonacci series of given range.\n",
    "\n",
    "N=int(input(\"ENTER NUMBER :\"))\n",
    "A=0\n",
    "B=1\n",
    "C=0\n",
    "while C<=N:\n",
    "    print(C)\n",
    "    A=B\n",
    "    B=C\n",
    "    C=A+B\n",
    "    "
   ]
  },
  {
   "cell_type": "code",
   "execution_count": null,
   "id": "9532cdf7",
   "metadata": {},
   "outputs": [],
   "source": [
    "# 4). How memory is managed in Python?\n",
    "\n",
    "'''The Python memory manager manages chunks of memory called “Blocks”.\n",
    "A collection of blocks of the same size makes up the “Pool”.\n",
    "Pools are created on Arenas, chunks of 256kB memory allocated on heap=64 pools.\n",
    "If the objects get destroyed, \n",
    "the memory manager fills this space with a new object of the same size.'''"
   ]
  },
  {
   "cell_type": "code",
   "execution_count": null,
   "id": "b1806a13",
   "metadata": {},
   "outputs": [],
   "source": [
    "# 5). What is the purpose continue statement in python?\n",
    "\n",
    "'''The continue keyword is used to end the current iteration in a for loop\n",
    "(or a while loop),and continues to the next iteration.'''"
   ]
  },
  {
   "cell_type": "code",
   "execution_count": null,
   "id": "3ec4111f",
   "metadata": {},
   "outputs": [],
   "source": [
    "# 6). Write python program that swap two number with temp variable \n",
    "# and without temp variable\n",
    "\n",
    "# With Temp Variable\n",
    "\n",
    "X= 20 \n",
    "Y= 30\n",
    "\n",
    "Swap=X\n",
    "X=Y\n",
    "Y=Swap\n",
    "\n",
    "print(\"After Swapping The Value Of X Is :\",X)\n",
    "print(\"After Swapping The Value Of y Is :\",Y)\n",
    "\n",
    "# Without Temp Variable\n",
    "\n",
    "A=10\n",
    "B=5\n",
    "print(\"Before Swapping The Value Of A Is :\",A )\n",
    "print(\"Before Swapping The Value Of B Is :\",B )\n",
    "\n",
    "A= A+B  #A+B (10+5)=15\n",
    "\n",
    "B= A-B  #A-B (15-5)=10\n",
    "\n",
    "A= A-B  #A-B (15-10)=5\n",
    "\n",
    "print(\"After Swapping The Value Of A Is :\",A )\n",
    "print(\"After Swapping The Value Of B Is :\",B )"
   ]
  },
  {
   "cell_type": "code",
   "execution_count": null,
   "id": "957a8cb0",
   "metadata": {},
   "outputs": [],
   "source": [
    "#7). Write a Python program to find whether a given number is even or odd,\n",
    "# print out an appropriate message to the user.\n",
    "\n",
    "A=int(input(\"Enter The Number :\"))\n",
    "if A==0:\n",
    "    print(\"Given Number Is Zero\")\n",
    "elif A>=0:\n",
    "    print(\"Given Number Is Positive\")\n",
    "else:\n",
    "    print(\"Given Number Is Negative\")\n"
   ]
  },
  {
   "cell_type": "code",
   "execution_count": null,
   "id": "137d112a",
   "metadata": {},
   "outputs": [],
   "source": [
    "# 8). Write a Python program to test whether a passed letter is a vowel or not\n",
    "\n",
    "Z=input(\"Enter The Letter :\")\n",
    "if (Z=='a' or Z=='e' or Z=='i' or Z=='o' or Z=='u'\n",
    "    or Z=='A' or Z=='E' or Z=='I' or Z=='O' or Z=='U'):\n",
    "    print(\"Given Letter Is Vowel\",Z)   \n",
    "else:\n",
    "    print(\"'Given Letter Is Not Vowel'\")"
   ]
  },
  {
   "cell_type": "code",
   "execution_count": null,
   "id": "c4e9d8a5",
   "metadata": {},
   "outputs": [],
   "source": [
    "# 9) Write a Python program to sum of three given integers.However, if two\n",
    "#values are equal sum will be zero.\n",
    "\n",
    "A=int(input(\"Enter The 1st Number\"))\n",
    "B=int(input(\"Enter The 2nd Number\"))\n",
    "C=int(input(\"Enter The 3rd Number\"))\n",
    "if (A==B or A==C or B==A or B==C or C==A or C==B):\n",
    "    print(\"The Sum Is Zero \")\n",
    "else:\n",
    "    print(\"The Sum Of The Given NUmbers Is :\",A+B+C)"
   ]
  },
  {
   "cell_type": "code",
   "execution_count": null,
   "id": "e4e672e5",
   "metadata": {},
   "outputs": [],
   "source": [
    "# 10). Write a Python program that will return true if the two given integervalues\n",
    "# are equal or their sum or difference is 5.\n",
    "\n",
    "def pyt(A,B):\n",
    "    if A==B or abs(A-B)==5 or abs(A+B)==5:\n",
    "        return True\n",
    "    else:\n",
    "        return False\n",
    "    \n",
    "print(pyt(10,10))\n",
    "print(pyt(10,5))\n",
    "print(pyt(5,2))\n",
    "\n",
    "# Another Method\n",
    "\n",
    "A=int(input(\"1st:\"))\n",
    "B=int(input(\"2nd:\"))\n",
    "\n",
    "if A==B or abs(A-B)==5 or abs(A+B)==5:\n",
    "    print(\"True\",A,B)\n",
    "else:\n",
    "    print(\"False\")"
   ]
  },
  {
   "cell_type": "code",
   "execution_count": null,
   "id": "9603e1d4",
   "metadata": {},
   "outputs": [],
   "source": [
    "# 11) Write a python program to sum of the first n positive integers.\n",
    "A=int(input(\"Enter A Number :\"))\n",
    "i= 1\n",
    "sum= 0\n",
    "while (i<=A): \n",
    "    sum=sum+i\n",
    "    i=i+1\n",
    "print(\"Sum Of The Given Number Is :\",sum)\n",
    "    \n",
    "\n"
   ]
  },
  {
   "cell_type": "code",
   "execution_count": null,
   "id": "433a06ff",
   "metadata": {},
   "outputs": [],
   "source": [
    "# 12). Write a Python program to calculate the length of a string.\n",
    "A=\"I Play BGMI\"\n",
    "strl=len(A)\n",
    "print(strl)"
   ]
  },
  {
   "cell_type": "code",
   "execution_count": null,
   "id": "dfb80951",
   "metadata": {},
   "outputs": [],
   "source": [
    "# 13). Write a Python program to count the number of characters (character\n",
    "# frequency) in a string\n",
    "\n",
    "A=input(\"Enter The Character :\")\n",
    "ch=0\n",
    "wrd=1\n",
    "for i in A:\n",
    "    ch+=1\n",
    "    if(i==\" \"):\n",
    "        wrd+=1\n",
    "print(\"The Number of Characters Are :\",ch)\n",
    "print(\"The Number Of Frequency Is :\",wrd)\n",
    "    \n",
    "\n"
   ]
  },
  {
   "cell_type": "code",
   "execution_count": null,
   "id": "b55ed8c6",
   "metadata": {},
   "outputs": [],
   "source": [
    "# 14). What are negative indexes and why are they used?\n",
    "'''The negative index is used to remove any new-line spaces from the string\n",
    "and allow the string to except the last character that is given as S[:-1].\n",
    "The negative index is also used to show the index to \n",
    "represent the string in correct order.'''"
   ]
  },
  {
   "cell_type": "code",
   "execution_count": null,
   "id": "e0f05b59",
   "metadata": {},
   "outputs": [],
   "source": [
    "# 15). Write a Python program to count occurrences of a substring in a string\n",
    "\n",
    "str1=input(\"Enter The String :\")\n",
    "D1=dict()\n",
    "for c in str1:\n",
    "    if c in D1:\n",
    "        D1[c] = D1[c] + 1\n",
    "    else:\n",
    "        D1[c] = 1\n",
    "print(D1)\n"
   ]
  },
  {
   "cell_type": "code",
   "execution_count": null,
   "id": "e79db1ab",
   "metadata": {},
   "outputs": [],
   "source": []
  },
  {
   "cell_type": "code",
   "execution_count": null,
   "id": "c617bfc5",
   "metadata": {},
   "outputs": [],
   "source": []
  }
 ],
 "metadata": {
  "kernelspec": {
   "display_name": "Python 3 (ipykernel)",
   "language": "python",
   "name": "python3"
  },
  "language_info": {
   "codemirror_mode": {
    "name": "ipython",
    "version": 3
   },
   "file_extension": ".py",
   "mimetype": "text/x-python",
   "name": "python",
   "nbconvert_exporter": "python",
   "pygments_lexer": "ipython3",
   "version": "3.9.12"
  }
 },
 "nbformat": 4,
 "nbformat_minor": 5
}
